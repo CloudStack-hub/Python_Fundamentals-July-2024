{
 "cells": [
  {
   "cell_type": "code",
   "execution_count": null,
   "id": "2642f794-0c18-4316-ae06-58464c697908",
   "metadata": {},
   "outputs": [],
   "source": [
    "Introduction to Python Programming:"
   ]
  },
  {
   "cell_type": "code",
   "execution_count": null,
   "id": "31c008ba-8c2a-4b97-ba84-14c571ff40dd",
   "metadata": {},
   "outputs": [],
   "source": [
    "Understanding the variables in python:"
   ]
  },
  {
   "cell_type": "code",
   "execution_count": 3,
   "id": "15d55c4e-84cc-4be2-8cb4-8fb2513476ca",
   "metadata": {},
   "outputs": [],
   "source": [
    "x = 2\n",
    "y = 3"
   ]
  },
  {
   "cell_type": "code",
   "execution_count": 4,
   "id": "41e1d961-e89d-4043-b9bc-4475449c4231",
   "metadata": {},
   "outputs": [
    {
     "name": "stdout",
     "output_type": "stream",
     "text": [
      "5\n"
     ]
    }
   ],
   "source": [
    "z = x+y\n",
    "print(z)"
   ]
  },
  {
   "cell_type": "code",
   "execution_count": null,
   "id": "f5362175-a8ca-4aac-aa2f-08efaaa28932",
   "metadata": {},
   "outputs": [],
   "source": [
    "Rules for declaring the variables in python :"
   ]
  },
  {
   "cell_type": "code",
   "execution_count": null,
   "id": "ddb1d783-020a-4049-a9a0-facd963514d8",
   "metadata": {},
   "outputs": [],
   "source": [
    "Rule No. 1 : No Namespaces while declaring the variables in python :"
   ]
  },
  {
   "cell_type": "code",
   "execution_count": 5,
   "id": "4dbd88e6-3d39-42b9-b45f-6939f9340315",
   "metadata": {},
   "outputs": [
    {
     "ename": "SyntaxError",
     "evalue": "invalid syntax (3232876851.py, line 1)",
     "output_type": "error",
     "traceback": [
      "\u001b[1;36m  Cell \u001b[1;32mIn[5], line 1\u001b[1;36m\u001b[0m\n\u001b[1;33m    first name = 'abdul'\u001b[0m\n\u001b[1;37m          ^\u001b[0m\n\u001b[1;31mSyntaxError\u001b[0m\u001b[1;31m:\u001b[0m invalid syntax\n"
     ]
    }
   ],
   "source": [
    "first name = 'abdul'\n",
    "\n",
    "print(first name)"
   ]
  },
  {
   "cell_type": "code",
   "execution_count": 6,
   "id": "4105c977-1e3b-4d31-af51-dc2da8538781",
   "metadata": {},
   "outputs": [
    {
     "name": "stdout",
     "output_type": "stream",
     "text": [
      "ábdul\n"
     ]
    }
   ],
   "source": [
    "firstname = 'ábdul'\n",
    "\n",
    "print(firstname)"
   ]
  },
  {
   "cell_type": "code",
   "execution_count": null,
   "id": "2c975a67-b68e-4fd1-98fe-7247e6443a4a",
   "metadata": {},
   "outputs": [],
   "source": [
    "Rule No. 2 : A variable name should not start with a number **"
   ]
  },
  {
   "cell_type": "code",
   "execution_count": 7,
   "id": "d571b9c4-9e67-4f03-a994-355d9fc968af",
   "metadata": {},
   "outputs": [
    {
     "ename": "SyntaxError",
     "evalue": "invalid decimal literal (402153988.py, line 1)",
     "output_type": "error",
     "traceback": [
      "\u001b[1;36m  Cell \u001b[1;32mIn[7], line 1\u001b[1;36m\u001b[0m\n\u001b[1;33m    1name = 'Hema'\u001b[0m\n\u001b[1;37m    ^\u001b[0m\n\u001b[1;31mSyntaxError\u001b[0m\u001b[1;31m:\u001b[0m invalid decimal literal\n"
     ]
    }
   ],
   "source": [
    "1name = 'Hema'\n",
    "\n",
    "printf(1name)"
   ]
  },
  {
   "cell_type": "code",
   "execution_count": 9,
   "id": "fa11d838-0511-40bd-95f2-422f828079be",
   "metadata": {},
   "outputs": [
    {
     "name": "stdout",
     "output_type": "stream",
     "text": [
      "Hema\n"
     ]
    }
   ],
   "source": [
    "name1 = 'Hema'\n",
    "\n",
    "print(name1)"
   ]
  },
  {
   "cell_type": "code",
   "execution_count": null,
   "id": "347a07cc-7aff-498b-82d6-be705345c379",
   "metadata": {},
   "outputs": [],
   "source": [
    "Rule No. 3 : A variable name should not contain any special characters"
   ]
  },
  {
   "cell_type": "code",
   "execution_count": null,
   "id": "29c2a0a3-01aa-4b20-b9b6-ac5dd670dc98",
   "metadata": {},
   "outputs": [],
   "source": [
    "@ $ # % & *"
   ]
  },
  {
   "cell_type": "code",
   "execution_count": 10,
   "id": "34f0ddf7-37a2-4ff9-b1d3-7b90d18c6959",
   "metadata": {},
   "outputs": [
    {
     "ename": "SyntaxError",
     "evalue": "invalid syntax (3828972452.py, line 1)",
     "output_type": "error",
     "traceback": [
      "\u001b[1;36m  Cell \u001b[1;32mIn[10], line 1\u001b[1;36m\u001b[0m\n\u001b[1;33m    name@ = 'naveen'\u001b[0m\n\u001b[1;37m          ^\u001b[0m\n\u001b[1;31mSyntaxError\u001b[0m\u001b[1;31m:\u001b[0m invalid syntax\n"
     ]
    }
   ],
   "source": [
    "name@ = 'naveen'\n",
    "\n",
    "print(name@)"
   ]
  },
  {
   "cell_type": "code",
   "execution_count": null,
   "id": "e839a2fd-267a-49c8-a234-f5316d25df07",
   "metadata": {},
   "outputs": [],
   "source": [
    "Introduction to datatypes in python :"
   ]
  },
  {
   "cell_type": "code",
   "execution_count": null,
   "id": "f99f6d15-ba0c-4107-a7d3-4f764e0db0df",
   "metadata": {},
   "outputs": [],
   "source": [
    "1. string ======> str\n",
    "\n",
    "2. Number ( integers (int) and floats ( decimal 0.1, 0.2))\n",
    "\n",
    "3. lists =====> list\n",
    "\n",
    "4. tuples ======> tuple\n",
    "\n",
    "5. Dictionairies ======> dict"
   ]
  },
  {
   "cell_type": "code",
   "execution_count": null,
   "id": "7e345b9e-b087-42ac-9707-46be9e51829d",
   "metadata": {},
   "outputs": [],
   "source": [
    "Classification of datatypes:\n",
    "\n",
    "    1. mutable datatypes =====> which we can edit and alter ====> flexible in nature\n",
    "\n",
    "    2. immutable datatypes =====> which we cannot be able to edit or alter ====> fixed in nature"
   ]
  },
  {
   "cell_type": "code",
   "execution_count": null,
   "id": "126f2668-1ee4-445c-b6fc-0abc157acbac",
   "metadata": {},
   "outputs": [],
   "source": [
    "Introduction to string datatype :\n",
    "\n",
    "Definition : A string is a combination of series of characters declared in quotes.\n",
    "\n",
    "Classification : It is classified as immutable datatype\n",
    "\n",
    "how to declare the string datatype ------------?\n",
    "\n",
    "1. single quote\n",
    "\n",
    "2. double quote"
   ]
  },
  {
   "cell_type": "code",
   "execution_count": 11,
   "id": "d38d1410-3f05-47eb-8fa6-0d65c4698113",
   "metadata": {},
   "outputs": [
    {
     "name": "stdout",
     "output_type": "stream",
     "text": [
      "kartik\n"
     ]
    }
   ],
   "source": [
    "name = 'kartik' # single quote\n",
    "\n",
    "print(name)"
   ]
  },
  {
   "cell_type": "code",
   "execution_count": 12,
   "id": "fcaf716b-ab4e-4153-93cc-11c3493a46bd",
   "metadata": {},
   "outputs": [
    {
     "name": "stdout",
     "output_type": "stream",
     "text": [
      "rahim\n"
     ]
    }
   ],
   "source": [
    "name2 = \"rahim\" # double quote\n",
    "\n",
    "print(name2)"
   ]
  },
  {
   "cell_type": "code",
   "execution_count": null,
   "id": "f1e2dc8a-69d3-454b-ba7a-454cf51485c5",
   "metadata": {},
   "outputs": [],
   "source": []
  },
  {
   "cell_type": "code",
   "execution_count": null,
   "id": "a0ff18da-e30f-4bb4-ae7f-70c582b4b77c",
   "metadata": {},
   "outputs": [],
   "source": [
    "# Introduction to string methods :"
   ]
  },
  {
   "cell_type": "code",
   "execution_count": 13,
   "id": "d0737e49-0f63-46e9-94af-3d62d059b326",
   "metadata": {},
   "outputs": [
    {
     "data": {
      "text/plain": [
       "str"
      ]
     },
     "execution_count": 13,
     "metadata": {},
     "output_type": "execute_result"
    }
   ],
   "source": [
    "type(name)"
   ]
  },
  {
   "cell_type": "code",
   "execution_count": 14,
   "id": "febffdd3-ddf1-4218-ab5c-28c5d6d219cf",
   "metadata": {},
   "outputs": [
    {
     "data": {
      "text/plain": [
       "str"
      ]
     },
     "execution_count": 14,
     "metadata": {},
     "output_type": "execute_result"
    }
   ],
   "source": [
    "type(name2)"
   ]
  },
  {
   "cell_type": "code",
   "execution_count": 18,
   "id": "e5c4747d-45ba-491b-8d66-ad1c675b656a",
   "metadata": {},
   "outputs": [
    {
     "name": "stdout",
     "output_type": "stream",
     "text": [
      "abdul ansari\n"
     ]
    }
   ],
   "source": [
    "fullname = 'abdul ansari'\n",
    "\n",
    "print(fullname)"
   ]
  },
  {
   "cell_type": "code",
   "execution_count": 19,
   "id": "1cf2bb46-1b7e-4a48-8708-61c79b47f8b5",
   "metadata": {},
   "outputs": [
    {
     "name": "stdout",
     "output_type": "stream",
     "text": [
      "Abdul Ansari\n"
     ]
    }
   ],
   "source": [
    "print(fullname.title())"
   ]
  },
  {
   "cell_type": "code",
   "execution_count": null,
   "id": "94b328ae-b020-42c0-869a-7119593e00c2",
   "metadata": {},
   "outputs": [],
   "source": [
    "# req : want the full name in capital letters"
   ]
  },
  {
   "cell_type": "code",
   "execution_count": 20,
   "id": "d709ea8a-2d61-493e-9450-c86f4766d987",
   "metadata": {},
   "outputs": [
    {
     "name": "stdout",
     "output_type": "stream",
     "text": [
      "ABDUL ANSARI\n"
     ]
    }
   ],
   "source": [
    "print(fullname.upper())"
   ]
  },
  {
   "cell_type": "code",
   "execution_count": null,
   "id": "2e4d8643-872a-4e14-82ff-675a108b87ca",
   "metadata": {},
   "outputs": [],
   "source": [
    "# req : want the full name in small case letters"
   ]
  },
  {
   "cell_type": "code",
   "execution_count": 21,
   "id": "48db6fe0-0c53-46b5-a1a9-863bb44fce28",
   "metadata": {},
   "outputs": [
    {
     "name": "stdout",
     "output_type": "stream",
     "text": [
      "abdul ansari\n"
     ]
    }
   ],
   "source": [
    "print(fullname.lower())"
   ]
  },
  {
   "cell_type": "code",
   "execution_count": null,
   "id": "10f0f94a-9dfd-457c-a5a2-ba6c8fdefc35",
   "metadata": {},
   "outputs": [],
   "source": [
    "# is used for commenting the lines"
   ]
  },
  {
   "cell_type": "code",
   "execution_count": null,
   "id": "d7652a91-1210-4e2a-a3e7-1afa21b6e8be",
   "metadata": {},
   "outputs": [],
   "source": []
  },
  {
   "cell_type": "code",
   "execution_count": null,
   "id": "cdb2c448-c75a-40cd-a817-1762c68def10",
   "metadata": {},
   "outputs": [],
   "source": []
  },
  {
   "cell_type": "code",
   "execution_count": null,
   "id": "222424c2-a8ab-43d4-af4a-946b4db5f83f",
   "metadata": {},
   "outputs": [],
   "source": []
  },
  {
   "cell_type": "code",
   "execution_count": null,
   "id": "cf05ce97-5d99-4ea7-b534-22e405e97fd6",
   "metadata": {},
   "outputs": [],
   "source": []
  },
  {
   "cell_type": "code",
   "execution_count": null,
   "id": "5076244f-6ded-4487-a17d-30f01140c370",
   "metadata": {},
   "outputs": [],
   "source": []
  },
  {
   "cell_type": "code",
   "execution_count": null,
   "id": "69742fa0-8f5d-40ef-8b61-c7be9d8eb6f6",
   "metadata": {},
   "outputs": [],
   "source": []
  },
  {
   "cell_type": "code",
   "execution_count": null,
   "id": "3c78296f-04d2-4da2-8c5a-1d907e28b11f",
   "metadata": {},
   "outputs": [],
   "source": []
  },
  {
   "cell_type": "code",
   "execution_count": null,
   "id": "75b68a9b-1d59-40a3-9bc6-14a6b5b829de",
   "metadata": {},
   "outputs": [],
   "source": []
  },
  {
   "cell_type": "code",
   "execution_count": null,
   "id": "2864437d-5641-4617-94e5-5760562fe754",
   "metadata": {},
   "outputs": [],
   "source": []
  }
 ],
 "metadata": {
  "kernelspec": {
   "display_name": "Python 3 (ipykernel)",
   "language": "python",
   "name": "python3"
  },
  "language_info": {
   "codemirror_mode": {
    "name": "ipython",
    "version": 3
   },
   "file_extension": ".py",
   "mimetype": "text/x-python",
   "name": "python",
   "nbconvert_exporter": "python",
   "pygments_lexer": "ipython3",
   "version": "3.11.7"
  }
 },
 "nbformat": 4,
 "nbformat_minor": 5
}
